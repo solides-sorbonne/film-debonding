{
 "cells": [
  {
   "cell_type": "markdown",
   "metadata": {},
   "source": [
    "# Fracture toughness measurements and their uncertainties\n",
    "\n",
    "1. Compile the values of fracture energy $G_c$ obtained by the different groups for the brown adhesive on one hand, and the transparent adhesive on the other hand. Focus here on the experiments performed with a normal peeling angle on the Plexiglass plate. Compute the average value $<G_c>$. Can we conclude that one adhesive is more \"sticky\" than the other ?\n",
    "\n",
    "2. To check if the different between the fracture energy of both adhesives is significative, we need to compute the uncertainties associated with the measurement of $G_c$. First, compute the histogram of the values of $G_c$ for both adhesives and plot them on a single graph using different colors. Can you conclude ?\n",
    "To compute the uncertainties, you can use the following formula that will be demonstrated during the class:\n",
    "$$\\Delta G_c = 1/\\sqrt{N} \\sum_{1 < k < N} G_c^{k}$$\n",
    "What is the relative error $\\Delta G_c/<G_c>$ for both adhesives ? Where does this value may come from ?\n",
    "\n",
    "3. We now turn to the comparison of the model prediction with the experimental data. We focus on the variations of the peeling force Fc with the peeling angle \\theta.\n",
    "\n",
    "    3.a. The model assuming extensibility of the adhesive predicts:\n",
    "    $$\\dfrac{F}{G_c b} = \\frac{1-\\cos(\\theta)}{\\alpha}\\left(\\sqrt{1 + 2 \\alpha/(1-\\cos(\\theta))^2} - 1\\right)$$\n",
    "where $$\\alpha = \\frac{G_c}{hE}$$ is the number without dimension.\n",
    "Demonstrate this expression by taking into account the effect of the extensibility on the variation of the elastic energy of the thin film during peeling and on the work of the external force.\n",
    "Then plot the theoretical prediction and compare it with the model assuming the inextensibility. Comment.\n",
    "\n",
    "    3.b. Compute now the actual value of alpha for both adhesives. Can you simplify the previous expression of the peeling force for some range of peeling angles ? Derive the simplified expression and comment.\n",
    "\n",
    "    3.c. Plot now the experimental values of the peeling force obtained for different peeling angles. Here, the value of $G_c$ will be determined by minimizing the difference between the model prediction and the experimental data. How does the value thus determined compare with the one obtained for normal peeling on a Plexiglass plate ? Comment.\n",
    "\n",
    "\n",
    "4. We now turn to the measurement of the fracture energy of a PDMS adhesive on a plexiglass plate. We propose to use the experimental setup described in the figure below \n",
    "![Obreimoff experiment](./figures/obreimoff.png).\n",
    "\n",
    "    4a. Assume that the adhesive shape is parabolic next to the peeling front (this will be demonstrated during the next session). Compute then the value of the curvature of the adhesive thin film. Deduce from it the elastic energy stored in the adhesive.\n",
    "    \n",
    "    4b. Provide the expression of the other contributions to the total energy of the system. Compute then their variations when the peeling front propagates, i.e. when the crack length varies from $c$ to $c + \\delta c$. Deduce from it the relation between the crakc length $c$, the adhesive thickness $h$, its Young's modulus $E$, the length $d$ and the fracture energy $G_c$.\n",
    "    \n",
    "    4c. From the previous theoretical expression, design a method to measure the fracture energy $G_c$ of the adhesive.\n",
    "    \n",
    "    4d. Perform several measurements of the value of crack length by redoing the experiments several times.\n",
    "    \n",
    "    4e. Deduce from it the uncertainties on the measured value of $G_c$.\n"
   ]
  },
  {
   "cell_type": "code",
   "execution_count": null,
   "metadata": {},
   "outputs": [],
   "source": []
  }
 ],
 "metadata": {
  "kernelspec": {
   "display_name": "Python 3",
   "language": "python",
   "name": "python3"
  },
  "language_info": {
   "codemirror_mode": {
    "name": "ipython",
    "version": 3
   },
   "file_extension": ".py",
   "mimetype": "text/x-python",
   "name": "python",
   "nbconvert_exporter": "python",
   "pygments_lexer": "ipython3",
   "version": "3.7.2"
  }
 },
 "nbformat": 4,
 "nbformat_minor": 2
}
