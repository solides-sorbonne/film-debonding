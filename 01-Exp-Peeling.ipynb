{
 "cells": [
  {
   "cell_type": "markdown",
   "metadata": {},
   "source": [
    "\n",
    "# Experiment: Peeling test\n",
    "\n",
    "1. Try to peel of the transparent adhesive tape by applying a force perpendicular to the substrate/ And then parallel to the substrate. What do you observe ?\n",
    "\n",
    "2. Redo the experiment with the brown tape. Do you observe the same behavior ?\n",
    "\n",
    "3. Conclude from these observations whether the peeling force can be used to characterize the resistance of an adhesive tape, irrespective of the loading conditions ?"
   ]
  },
  {
   "cell_type": "code",
   "execution_count": null,
   "metadata": {},
   "outputs": [],
   "source": []
  }
 ],
 "metadata": {
  "kernelspec": {
   "display_name": "Python 3",
   "language": "python",
   "name": "python3"
  },
  "language_info": {
   "codemirror_mode": {
    "name": "ipython",
    "version": 3
   },
   "file_extension": ".py",
   "mimetype": "text/x-python",
   "name": "python",
   "nbconvert_exporter": "python",
   "pygments_lexer": "ipython3",
   "version": "3.7.2"
  }
 },
 "nbformat": 4,
 "nbformat_minor": 2
}
