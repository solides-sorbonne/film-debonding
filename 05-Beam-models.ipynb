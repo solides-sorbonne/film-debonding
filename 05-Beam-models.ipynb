{
 "cells": [
  {
   "cell_type": "markdown",
   "metadata": {},
   "source": [
    "# Beam Model\n",
    "\n",
    "## Kinematics\n",
    "\n",
    "Consider a beam of length L  with a straight reference configuration and denote by $s$ the arclength in this configuration. Without loss of generality, let us use a Cartesian reference system $(O,\\underline{e}_1,\\underline{e}_2)$ with the origin at the left end of the beam and $\\underline{e}_1$ oriented as the beam in the reference configuration. Hence the reference configuration can be written with the following parametric representation\n",
    "\n",
    "$$\n",
    "\\underline x_R(s) = s \\,\\underline{e_1} \n",
    "$$\n",
    "\n",
    "The current cunfiguration is given by \n",
    "\n",
    "$$\n",
    "\\underline x(s) =   x(s) \\underline{e}_1 + y(s) \\underline{e}_2 = \n",
    "(s+u(s)) \\underline{e}_1 + v(s) \\underline{e}_2\n",
    "$$\n",
    "\n",
    "where $\\underline u(s)= u(s) \\underline{e}_1 + v(s) \\underline{e}_2$ is the displacement vector, with the axial ($u$) and transversal ($v$) components, in the reference configuration.\n"
   ]
  },
  {
   "cell_type": "markdown",
   "metadata": {},
   "source": [
    "The unit tangent vector to the current configuration is given by\n",
    "\n",
    "\\begin{equation}\n",
    "\\underline{t}(s) = \\dfrac{\\underline{x}'(s)}{\\Vert{\\underline{x}'(s)}\\Vert} = \\cos\\alpha(s)\\,\\underline{e}_1 + \\sin\\alpha(s) \\,\\underline{e}_2\n",
    "\\end{equation}\n",
    "\n",
    "where, in the last equality, we introduced the angle $\\alpha(s)$ between the tangent $\\underline{t}(s)$ and $\\underline{e}_1$.\n",
    "\n",
    "The parameter $s$  is the arclength of the beam in the reference configuration. \n",
    "\n",
    "The length of a infinitesimal segment of the current deformation is, using Pythagorean theorem and $dx=x'(s)ds$, $dy=y'(s)ds$:\n",
    "\n",
    "$$\n",
    "d\\tilde s = \\sqrt{dx^2+dy^2} = \\sqrt{x'(s) +y'(s)^2}\\,ds = \\Vert\\underline  x'(s)\\Vert ds\n",
    "$$\n",
    "\n",
    "The arclength in the current configuration is \n",
    "\n",
    "$$\\tilde s=\\int_0^s \\Vert\\underline  x'(s)\\Vert ds$$. \n",
    "\n",
    "We define the following **deformations measures** for the beam:\n",
    "\n",
    "\\begin{equation}\n",
    "\\begin{cases}\n",
    "e(s) = \\Vert{\\underline{x}'(s)}\\Vert - 1 = \\sqrt{(1+u'(s))^2+v'(s)^2}-1&(extension)\\\\\n",
    "\\kappa(s) = \\alpha'(s) & (curvature)\n",
    "\\end{cases}\n",
    "\\end{equation}\n",
    "\n",
    "We can also obtain the inverse relation  :\n",
    "\\begin{equation}\n",
    "\\underline x'(s)=(1+e(s))\\underline t(s)\n",
    "\\,\\Rightarrow\\,\n",
    "\\begin{cases}\n",
    "x'(s) = 1+u'(s) =(1+e(s))\\cos \\alpha(s)\\\\\n",
    "y'(s) = v'(s) =(1+e(s))\\sin \\alpha(s)\n",
    "\\end{cases}\n",
    "\\end{equation}\n",
    "Integrating the relation above allows us to obtain the position of a point from the knowledge of the curvature and the extension. \n",
    "\n",
    "When $\\epsilon(s)=0$ the beam is *inextensible* and $s$ is an arc-length also in the current configuration. \n",
    "\n",
    "We will consider int the following to special cases:\n",
    " 1. The **inextensible** model, for which \n",
    " $$\n",
    "\\underline{x}'(s) = \\cos\\alpha(s)\\,\\underline{e}_1 + \\sin\\alpha(s) \\,\\underline{e}_2,\\qquad \\kappa(s) = \\alpha'(s) \n",
    "$$\n",
    " 2. The linearized model, where we retain only the first order term of the expension below:\n",
    "    \\begin{equation}\n",
    "    \\begin{cases}\n",
    "    u'(s) =e(s)+o(\\alpha(s)^2)\\\\\n",
    "    v'(s) =\\alpha(s)+o(\\alpha(s)^2)\n",
    "    \\end{cases}\n",
    "    \\end{equation}\n",
    "    We have also in this case the approximation $\\kappa(s)=v''(s)$ for the curvature.\n",
    "   "
   ]
  },
  {
   "cell_type": "markdown",
   "metadata": {},
   "source": [
    "# Representation of the beam configuration with matplotlib\n",
    "\n",
    "We can use two `python` packages, `numpy` and `matplotlib` to represent the beam.\n",
    "\n",
    "First let us define the reference configuration as two functions:"
   ]
  },
  {
   "cell_type": "code",
   "execution_count": 6,
   "metadata": {},
   "outputs": [],
   "source": [
    "import numpy as np\n",
    "def xR(s):\n",
    "    return s\n",
    "def yR(s):\n",
    "    return 0.*s\n",
    "s = np.linspace(0.,1.,100);"
   ]
  },
  {
   "cell_type": "markdown",
   "metadata": {},
   "source": [
    "We can represent it using `matplotlib`"
   ]
  },
  {
   "cell_type": "code",
   "execution_count": 7,
   "metadata": {},
   "outputs": [
    {
     "data": {
      "text/plain": [
       "[<matplotlib.lines.Line2D at 0x115210898>]"
      ]
     },
     "execution_count": 7,
     "metadata": {},
     "output_type": "execute_result"
    },
    {
     "data": {
      "image/png": "[encoded data removed]",
      "text/plain": [
       "<Figure size 432x288 with 1 Axes>"
      ]
     },
     "metadata": {
      "needs_background": "light"
     },
     "output_type": "display_data"
    }
   ],
   "source": [
    "import matplotlib.pyplot as plt\n",
    "%matplotlib inline  \n",
    "\n",
    "plt.plot(xR(s),yR(s))"
   ]
  },
  {
   "cell_type": "markdown",
   "metadata": {},
   "source": [
    "Then we can do it better with a possible current configuration"
   ]
  },
  {
   "cell_type": "code",
   "execution_count": 8,
   "metadata": {},
   "outputs": [
    {
     "data": {
      "text/plain": [
       "Text(1, -0.03, '$L$')"
      ]
     },
     "execution_count": 8,
     "metadata": {},
     "output_type": "execute_result"
    },
    {
     "data": {
      "image/png": "[encoded data removed]",
      "text/plain": [
       "<Figure size 432x288 with 1 Axes>"
      ]
     },
     "metadata": {
      "needs_background": "light"
     },
     "output_type": "display_data"
    }
   ],
   "source": [
    "sb = 0.3\n",
    "x = np.piecewise(s, [s < sb , s >= sb], [lambda s: s, lambda s: 1.1*s])\n",
    "y = np.piecewise(s, [s < sb , s >= sb], [lambda s: 0, lambda s: .5*(s-sb)**2])\n",
    "\n",
    "fig, ax = plt.subplots()\n",
    "ax.plot(x,y,color='b',ls='-',lw=3)\n",
    "ax.plot(xR(s),yR(s),color='b', ls='--', lw=3)\n",
    "ax.get_xaxis().set_visible(False)\n",
    "ax.get_yaxis().set_visible(False)\n",
    "ax.set_title(\"Reference and deformed configuration\")\n",
    "ax.set_xlim(-0.2, 1.2)\n",
    "ax.set_ylim(-0.05, .35)\n",
    "ax.quiver(xR(s[-30]),yR(s[-30]),x[-30]-xR(s[-30]),y[-30]-yR(s[-30]),color='r',scale_units='xy', angles='xy', scale=1)\n",
    "ax.text(xR(s[-30])-.2,yR(s[-30])-.03,r'$({x}_R(s),y_R(s))$')\n",
    "ax.text(x[-30]-.3,y[-30]+.01,r'$({x}(s),y(s))$')\n",
    "ax.text(xR(sb),yR(sb)-.03,r'$\\bar s$')\n",
    "ax.text(xR(0),yR(0)-.03,r'$0$')\n",
    "ax.text(xR(1),yR(1)-.03,r'$L$')"
   ]
  },
  {
   "cell_type": "markdown",
   "metadata": {},
   "source": [
    "**Exercice:** calculate and plot the extension and curvature of the current deformation given above. "
   ]
  },
  {
   "cell_type": "markdown",
   "metadata": {},
   "source": [
    "## Elastic Energy \n",
    "\n",
    "We suppose that the elastic energy per unit line required to bend the beam is proportional to the square of the curvature $\\kappa$ and the extension $e$:\n",
    "$$\n",
    "W(e,\\kappa) = ES \\dfrac{e^2}{2}+EI \\dfrac{\\kappa^2}{2},\\qquad \\textit{(elastic energy density)}\n",
    "$$\n",
    "where  $ES$ and $EI$  are the extensional and the bending stiffness, $E$ being the Young modulus and $I$ the quadratic moment of the cross sectionwith respect to the bending axis and $S$ the cross-section area. \n",
    "For a beam with a rectangular cross-section of width $b$ and height $h$, $I=bh^3/12$, $I=bh$ \n",
    "The total elastic energy of the beam is\n",
    "$$\n",
    "\\int_0^L W(e,k)\\,\\mathrm{d}s\n",
    "$$"
   ]
  },
  {
   "cell_type": "markdown",
   "metadata": {},
   "source": [
    "## Variational Formulation - Linear model\n",
    "\n",
    "For conservative loading, the equilibrium configuration of the beam can be found by looking for the stationarity points of the total energy, sum of the elastic energy and the potential energy of the external forces. \n",
    "\n",
    "We will consider in the following the special case of a beam of length $a$, clamped in $s=0$ and with an imposed displacement in $\\bar v$ in $s=a$. We will assume that the beam is inextensible, setting $u'=0$, and solve for the transverse displacement $v$. \n",
    "\n",
    "The total potential energy is in this case \n",
    "$$\n",
    "\\mathcal {E}(v)=\\int_0^a \\frac{EI}{2} v'(s)^2 \\mathrm{d}s\n",
    "$$\n",
    "and the space of admissible displacement is \n",
    "$$\n",
    "\\mathcal {C} = \\{v: \\, v(0)=0,\\,v'(0)=0,\\,v(a)=\\bar v\\}\n",
    "$$\n",
    "\n",
    "\\textbf{Exercice:} \n",
    "1. Determine the stationarity condition fot he functional $\\mathcal {E}(v)$. \n",
    "2. Solve the corresponding boundary value problem and determine $v(s)$ at the eequilibrium.\n",
    "3. Determine the elastic energy $\\mathcal {E}(v)$ at the equilibrium as a function of the imposed displacement  $\\bar{v}$ and the length $a$."
   ]
  },
  {
   "cell_type": "markdown",
   "metadata": {},
   "source": [
    "## Variational Formulation - nonlinear model\n",
    "\n",
    "We present below the nonlinear model for a beam loaded with an end-force \n",
    "$$\\underline F = F\\,(\\cos \\theta \\underline e_1+\\sin \\theta \\underline e_2)$$\n",
    "applied at $s=L$.\n",
    "\n",
    "We develop a model valid under the following assumptions:\n",
    "\n",
    "**H1.** The beam is inxtensible\n",
    "\n",
    "**H2.** The beam is flexible and the energy per unit line required to bend the beam is proportional to the square of the curvature $\\kappa$:\n",
    "$$\n",
    "W(\\kappa) = EI \\dfrac{\\kappa^2}{2},\\qquad \\textit{(elastic energy density)}\n",
    "$$\n",
    "where $EI$ is the bending stiffness, $E$ being the Young modulus and $I$ the quadratic moment of the cross section with respect to the bending axis. For a beam with a rectangular cross-section of width $b$ and height $h$, $I=bh^3/12$.\n",
    "The total elastic energy of the beam is\n",
    "$$\n",
    "\\int_0^L W(\\alpha'(s))\\,\\mathrm{d}s\n",
    "$$\n",
    " "
   ]
  },
  {
   "cell_type": "markdown",
   "metadata": {},
   "source": [
    "## Variational Formulation - nonlinear model\n",
    "\n",
    "We present below the nonlinear model for a beam loaded with an end-force \n",
    "$$\\underline F = F\\,(\\cos \\theta \\underline e_1+\\sin \\theta \\underline e_2)$$\n",
    "applied at $s=L$.\n",
    "\n",
    "We develop a model valid under the following assumptions:\n",
    "\n",
    "**H1.** The beam is inxtensible\n",
    "\n",
    "**H2.** The beam is flexible and the energy per unit line required to bend the beam is proportional to the square of the curvature $\\kappa$:\n",
    "$$\n",
    "W(\\kappa) = EI \\dfrac{\\kappa^2}{2},\\qquad \\textit{(elastic energy density)}\n",
    "$$\n",
    "where $EI$ is the bending stiffness, $E$ being the Young modulus and $I$ the quadratic moment of the cross section with respect to the bending axis. For a beam with a rectangular cross-section of width $b$ and height $h$, $I=bh^3/12$.\n",
    "The total elastic energy of the beam is\n",
    "$$\n",
    "\\int_0^L W(\\alpha'(s))\\,\\mathrm{d}s\n",
    "$$\n",
    " \n"
   ]
  },
  {
   "cell_type": "markdown",
   "metadata": {},
   "source": [
    "### Energies (case withouf debonding)\n",
    "\n",
    "Let us consider the case of beam of length $L$, bending stiffness $EI$ clamped on $s=0$.\n",
    "\n",
    "* The  elastic energy of the beam is given by  \n",
    "$$\n",
    "\\mathcal{E}(\\alpha)=\\int_{0}^L\\dfrac{EI}{2} \\alpha'(s)^2 \\,ds\n",
    "$$\n",
    "\n",
    "*  The potential energy of the external load is\n",
    "$$\n",
    "-\\underline F\\cdot \\underline x(L) =-\\underline F\\cdot \\int_{ 0}^L\\underline t(\\alpha(s))\\,\\mathrm d s\n",
    "$$\n",
    "\n",
    "**Exercice:** \n",
    "Using the principle of the minimum of the potential energy and basic arguments of the calculus of variations show that the equilibrium equation of the beam is:\n",
    "\n",
    "$$\n",
    "\\alpha''(s)+\\frac{F}{EI}(\\ldots)\n",
    "$$"
   ]
  },
  {
   "cell_type": "markdown",
   "metadata": {},
   "source": [
    "### Numerical solution\n",
    "\n",
    "We use the function `solve_bvp` of the python module `scipy` (https://scipy-lectures.org/index.html) to solve the non-linear boundary value problem. An analougous function should be available in matlab."
   ]
  },
  {
   "cell_type": "code",
   "execution_count": 9,
   "metadata": {},
   "outputs": [
    {
     "data": {
      "image/png": "[encoded data removed]",
      "text/plain": [
       "<Figure size 432x288 with 1 Axes>"
      ]
     },
     "metadata": {
      "needs_background": "light"
     },
     "output_type": "display_data"
    }
   ],
   "source": [
    "from scipy.integrate import solve_bvp\n",
    "import matplotlib.pyplot as plt\n",
    "import numpy as np\n",
    "\n",
    "def T(f,theta,alpha):\n",
    "    return f*np.array([-np.sin(alpha)*np.cos(theta)+\n",
    "                     np.cos(alpha)*np.sin(theta)]) \n",
    "\n",
    "def bc(ya, yb):\n",
    "    return np.array([ya[0], ya[2], ya[3], yb[1]])\n",
    "\n",
    "def beam_solver(f,theta,s,y):\n",
    "    def fun(s, y):\n",
    "        alpha = y[0]\n",
    "        return np.vstack((y[1], \n",
    "                      -T(f,theta,alpha),\n",
    "                      np.cos(alpha),\n",
    "                      np.sin(alpha)))\n",
    "\n",
    "    res = solve_bvp(fun, bc, s, y)\n",
    "    return res\n",
    "\n",
    "s = np.linspace(0, 1, 100)\n",
    "y = np.zeros((4, s.size))\n",
    "thetas = np.linspace(0,np.pi/2,10)\n",
    "for theta in thetas:\n",
    "    f = 100\n",
    "    res = beam_solver(f,theta,s,y)\n",
    "    y = res.sol(s)\n",
    "    x_plot = y[2]\n",
    "    y_plot = y[3]\n",
    "    plt.plot(x_plot, y_plot, \"-\",label=r\"$\\theta = {:04.2f} \\,\\pi$\".format(theta/np.pi))\n",
    "plt.legend(loc='center left', bbox_to_anchor=(1, 0.5))\n",
    "plt.xlabel(\"x/L\")\n",
    "plt.ylabel(\"y/L\")\n",
    "plt.ylim([0,1])\n",
    "plt.xlim([0,1])\n",
    "plt.title(r\"Shape of the beam for a force $F= {:04.1f} \\,EI/L^2$\".format(f))\n",
    "plt.show()"
   ]
  },
  {
   "cell_type": "markdown",
   "metadata": {},
   "source": [
    "\n",
    "Let us consider the case of beam of length $L$, bending stiffness $EI$, bonded on a substrate for $s\\in(0,\\bar s)$.\n",
    "\n",
    "* The  elastic energy of the beam is given by  \n",
    "$$\n",
    "\\mathcal{E}(\\alpha)=\\int_{\\bar s}^L\\dfrac{EI}{2} \\alpha'(s)^2 \\,ds\n",
    "$$\n",
    "* The  debonding energy is \n",
    "$$\n",
    "G_c\\,b\\,(L-\\bar s)\n",
    "$$\n",
    "*  The potential energy of the external load is\n",
    "$$\n",
    "-\\underline F\\cdot \\underline x(L) =-\\underline F\\cdot \\left(\\bar s \\underline e_1+\\int_{\\bar s}^L\\underline t(\\alpha(s))\\mathrm d s\\right)\n",
    "$$\n"
   ]
  }
 ],
 "metadata": {
  "kernelspec": {
   "display_name": "Python 3",
   "language": "python",
   "name": "python3"
  },
  "language_info": {
   "codemirror_mode": {
    "name": "ipython",
    "version": 3
   },
   "file_extension": ".py",
   "mimetype": "text/x-python",
   "name": "python",
   "nbconvert_exporter": "python",
   "pygments_lexer": "ipython3",
   "version": "3.7.2"
  }
 },
 "nbformat": 4,
 "nbformat_minor": 2
}
