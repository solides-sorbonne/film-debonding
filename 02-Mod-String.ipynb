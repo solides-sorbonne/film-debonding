{
 "cells": [
  {
   "cell_type": "markdown",
   "metadata": {},
   "source": [
    "# Inextensible and perfectly flexible model\n",
    "\n",
    "To define a material property that characterizes the ability of a tape to stick to a substrate, let's address the following problem.\n",
    "\n",
    "Let un consider a tape of width $b$ and thickness $h$, which partially bonded to a substrate and loaded by a force \n",
    "$$\\underline F = F  (\\cos(\\theta)\\, \\underline e_1 + \\sin(\\theta)\\, \\underline e_2) $$\n",
    "at the free end. We set a reference frame ($O$,$\\underline e_1$, $\\underline e_2$) with $\\underline e_1$ paralell to the the substrate, $\\underline e_2$ orthogonal to the substrate, and  the origin $O$ at the interface between the bonded and debonded part. \n",
    "\n",
    "![Inextensible string model](./figures/string.png)\n",
    "\n",
    "Let be $L$ the length of tape. Let us assume the following hypothesis\n",
    "* The tape is bonded on the substrate for $s\\in(0,\\bar s)$\n",
    "* The tape is debonded for  $s\\in(\\bar s,L)$\n",
    "* The tape is inextensible and perfectly flexible  (do not require elastic energy to bend). Its elastic energy is vanishing.\n",
    "* The equilibrium configuration of the tape is flat in the bonded  part and strainght in the debonded part. We  will denote the orientation of this straight line\n",
    "$$\\underline t(\\alpha) =\\cos \\alpha\\underline e_1+ \\sin \\alpha  \\underline e_2 $$ \n",
    "* The bonding/debonding phenomenon is reversible. The bonding/debonding energy is proportional to the surface of the bonded part: \n",
    "$$D(\\bar s) = G_c b \\,(L-\\bar s),$$\n",
    "where $G_c$ is called the toughgness of the interface.\n",
    "\n",
    "applied to the free end.\n",
    "\n",
    "1. Show that the total energy of the system, sum of the potential energy of external force and the debonding energy is (this will be filled durint the first class)\n",
    " \n",
    "\n",
    "$$E(\\bar s, \\alpha) = \\ldots $$\n",
    "\n",
    "2. Using the energy minimality principle, find the orientation $\\alpha$ at the equilibrium and show that the system can be at equilibrium with $\\bar s \\in (0,L)$ only for a\n",
    "$$ F  = \\frac{G_c b}{1-\\cos \\theta} $$\n",
    "\n",
    "3. Using `python-matplotlib` or `matlab` or `mathematica`, plot graphically the relation above, and the corresponding equilibrium configuration. Make the plot nice and self-explicative. \n",
    "\n",
    "Resume your results in a one-page intermediate report,  possible written in `latex` (or a `jupyter-notebook`). The quality of the presentation and the graphs is important."
   ]
  },
  {
   "cell_type": "code",
   "execution_count": null,
   "metadata": {},
   "outputs": [],
   "source": []
  },
  {
   "cell_type": "code",
   "execution_count": null,
   "metadata": {},
   "outputs": [],
   "source": []
  }
 ],
 "metadata": {
  "kernelspec": {
   "display_name": "Python 3",
   "language": "python",
   "name": "python3"
  },
  "language_info": {
   "codemirror_mode": {
    "name": "ipython",
    "version": 3
   },
   "file_extension": ".py",
   "mimetype": "text/x-python",
   "name": "python",
   "nbconvert_exporter": "python",
   "pygments_lexer": "ipython3",
   "version": "3.7.2"
  }
 },
 "nbformat": 4,
 "nbformat_minor": 2
}
