{
 "cells": [
  {
   "cell_type": "markdown",
   "metadata": {},
   "source": [
    "\n",
    "# Measurement of the bonding energy\n",
    "\n",
    "1. Attach the recipient to the transparent adhesive.  Put weights one by one in the recipient until you observe peeling. Deduce from it the peeling force. Use the relation derived in the model to measure the bonding energy Gc.\n",
    "\n",
    "2.  Redo the same experiment for the brow adhesive. Which tape is the most resistant ? Why is the brown tape wider?\n",
    "\n",
    "3. Proceed now to the measurement of the bonding energy to the transparent adhesive using the tape holder.  What is the different with the previous experiment where the tape was maintained fixed and could not rotate ? How do you explain this effect ?"
   ]
  },
  {
   "cell_type": "code",
   "execution_count": null,
   "metadata": {},
   "outputs": [],
   "source": []
  }
 ],
 "metadata": {
  "kernelspec": {
   "display_name": "Python 3",
   "language": "python",
   "name": "python3"
  },
  "language_info": {
   "codemirror_mode": {
    "name": "ipython",
    "version": 3
   },
   "file_extension": ".py",
   "mimetype": "text/x-python",
   "name": "python",
   "nbconvert_exporter": "python",
   "pygments_lexer": "ipython3",
   "version": "3.7.2"
  }
 },
 "nbformat": 4,
 "nbformat_minor": 2
}
